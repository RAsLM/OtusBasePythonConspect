{
 "cells": [
  {
   "cell_type": "code",
   "execution_count": 1,
   "id": "a14a22a4",
   "metadata": {},
   "outputs": [
    {
     "data": {
      "text/plain": [
       "2"
      ]
     },
     "execution_count": 1,
     "metadata": {},
     "output_type": "execute_result"
    }
   ],
   "source": [
    "1 + 1"
   ]
  },
  {
   "cell_type": "code",
   "execution_count": 2,
   "id": "0e5cc8c3",
   "metadata": {},
   "outputs": [
    {
     "data": {
      "text/plain": [
       "'hello'"
      ]
     },
     "execution_count": 2,
     "metadata": {},
     "output_type": "execute_result"
    }
   ],
   "source": [
    "'hello'"
   ]
  },
  {
   "cell_type": "code",
   "execution_count": 3,
   "id": "1d809ac9",
   "metadata": {},
   "outputs": [
    {
     "data": {
      "text/plain": [
       "'Медведь'"
      ]
     },
     "execution_count": 3,
     "metadata": {},
     "output_type": "execute_result"
    }
   ],
   "source": [
    "# Медведь Борис\n",
    "'Медведь'"
   ]
  },
  {
   "cell_type": "code",
   "execution_count": 4,
   "id": "8a5caad9",
   "metadata": {},
   "outputs": [
    {
     "data": {
      "text/plain": [
       "'Медведь'"
      ]
     },
     "execution_count": 4,
     "metadata": {},
     "output_type": "execute_result"
    }
   ],
   "source": [
    "\"Медведь\""
   ]
  },
  {
   "cell_type": "code",
   "execution_count": 5,
   "id": "fff6f614",
   "metadata": {},
   "outputs": [
    {
     "data": {
      "text/plain": [
       "'Борис'"
      ]
     },
     "execution_count": 5,
     "metadata": {},
     "output_type": "execute_result"
    }
   ],
   "source": [
    "'Борис'"
   ]
  },
  {
   "cell_type": "code",
   "execution_count": 6,
   "id": "fba75aae",
   "metadata": {},
   "outputs": [
    {
     "data": {
      "text/plain": [
       "\"Медвед 'Борис'\""
      ]
     },
     "execution_count": 6,
     "metadata": {},
     "output_type": "execute_result"
    }
   ],
   "source": [
    "\"Медвед 'Борис'\""
   ]
  },
  {
   "cell_type": "code",
   "execution_count": 7,
   "id": "6e11cb9c",
   "metadata": {},
   "outputs": [
    {
     "data": {
      "text/plain": [
       "'Медведь \"Борис\"'"
      ]
     },
     "execution_count": 7,
     "metadata": {},
     "output_type": "execute_result"
    }
   ],
   "source": [
    "'Медведь \"Борис\"'\n"
   ]
  },
  {
   "cell_type": "code",
   "execution_count": 8,
   "id": "0b2a5f0a",
   "metadata": {},
   "outputs": [
    {
     "data": {
      "text/plain": [
       "11"
      ]
     },
     "execution_count": 8,
     "metadata": {},
     "output_type": "execute_result"
    }
   ],
   "source": [
    "11"
   ]
  },
  {
   "cell_type": "code",
   "execution_count": 9,
   "id": "81c5468c",
   "metadata": {},
   "outputs": [
    {
     "data": {
      "text/plain": [
       "'11'"
      ]
     },
     "execution_count": 9,
     "metadata": {},
     "output_type": "execute_result"
    }
   ],
   "source": [
    "'11'"
   ]
  },
  {
   "cell_type": "code",
   "execution_count": 10,
   "id": "0f1223e7",
   "metadata": {},
   "outputs": [
    {
     "data": {
      "text/plain": [
       "11.1"
      ]
     },
     "execution_count": 10,
     "metadata": {},
     "output_type": "execute_result"
    }
   ],
   "source": [
    "11.1"
   ]
  },
  {
   "cell_type": "code",
   "execution_count": 11,
   "id": "81b6393d",
   "metadata": {},
   "outputs": [
    {
     "data": {
      "text/plain": [
       "True"
      ]
     },
     "execution_count": 11,
     "metadata": {},
     "output_type": "execute_result"
    }
   ],
   "source": [
    "True"
   ]
  },
  {
   "cell_type": "code",
   "execution_count": 12,
   "id": "f85fba48",
   "metadata": {},
   "outputs": [
    {
     "data": {
      "text/plain": [
       "True"
      ]
     },
     "execution_count": 12,
     "metadata": {},
     "output_type": "execute_result"
    }
   ],
   "source": [
    "1 == 1"
   ]
  },
  {
   "cell_type": "code",
   "execution_count": 13,
   "id": "649e3d94",
   "metadata": {},
   "outputs": [],
   "source": [
    "kind = 'Медведь'"
   ]
  },
  {
   "cell_type": "code",
   "execution_count": 14,
   "id": "2d0a36e6",
   "metadata": {},
   "outputs": [
    {
     "data": {
      "text/plain": [
       "2"
      ]
     },
     "execution_count": 14,
     "metadata": {},
     "output_type": "execute_result"
    }
   ],
   "source": [
    "1 + 1\n"
   ]
  },
  {
   "cell_type": "code",
   "execution_count": 15,
   "id": "f209f4b1",
   "metadata": {},
   "outputs": [
    {
     "data": {
      "text/plain": [
       "5"
      ]
     },
     "execution_count": 15,
     "metadata": {},
     "output_type": "execute_result"
    }
   ],
   "source": [
    "2 + 3"
   ]
  },
  {
   "cell_type": "code",
   "execution_count": 16,
   "id": "a9f0cfc8",
   "metadata": {},
   "outputs": [
    {
     "data": {
      "text/plain": [
       "'Медведь'"
      ]
     },
     "execution_count": 16,
     "metadata": {},
     "output_type": "execute_result"
    }
   ],
   "source": [
    "kind"
   ]
  },
  {
   "cell_type": "code",
   "execution_count": 17,
   "id": "a450c9d6",
   "metadata": {},
   "outputs": [],
   "source": [
    "age = 11"
   ]
  },
  {
   "cell_type": "code",
   "execution_count": 18,
   "id": "70cac056",
   "metadata": {},
   "outputs": [],
   "source": [
    "weight = 20.1"
   ]
  },
  {
   "cell_type": "code",
   "execution_count": 19,
   "id": "7558ebf5",
   "metadata": {},
   "outputs": [],
   "source": [
    "is_man = True"
   ]
  },
  {
   "cell_type": "code",
   "execution_count": 20,
   "id": "127a5ffe",
   "metadata": {},
   "outputs": [
    {
     "data": {
      "text/plain": [
       "str"
      ]
     },
     "execution_count": 20,
     "metadata": {},
     "output_type": "execute_result"
    }
   ],
   "source": [
    "type(kind)"
   ]
  },
  {
   "cell_type": "code",
   "execution_count": 21,
   "id": "068b5ad1",
   "metadata": {},
   "outputs": [],
   "source": [
    "age = '11'"
   ]
  },
  {
   "cell_type": "code",
   "execution_count": 22,
   "id": "e0236a5a",
   "metadata": {},
   "outputs": [
    {
     "data": {
      "text/plain": [
       "str"
      ]
     },
     "execution_count": 22,
     "metadata": {},
     "output_type": "execute_result"
    }
   ],
   "source": [
    "type(age)"
   ]
  },
  {
   "cell_type": "code",
   "execution_count": 23,
   "id": "d8fa4e31",
   "metadata": {},
   "outputs": [
    {
     "data": {
      "text/plain": [
       "False"
      ]
     },
     "execution_count": 23,
     "metadata": {},
     "output_type": "execute_result"
    }
   ],
   "source": [
    "age == 11"
   ]
  },
  {
   "cell_type": "code",
   "execution_count": 24,
   "id": "54456d5c",
   "metadata": {},
   "outputs": [
    {
     "data": {
      "text/plain": [
       "str"
      ]
     },
     "execution_count": 24,
     "metadata": {},
     "output_type": "execute_result"
    }
   ],
   "source": [
    "type(age)"
   ]
  },
  {
   "cell_type": "code",
   "execution_count": 25,
   "id": "f5784252",
   "metadata": {},
   "outputs": [],
   "source": [
    "age = 11"
   ]
  },
  {
   "cell_type": "code",
   "execution_count": 26,
   "id": "e5512447",
   "metadata": {},
   "outputs": [
    {
     "data": {
      "text/plain": [
       "int"
      ]
     },
     "execution_count": 26,
     "metadata": {},
     "output_type": "execute_result"
    }
   ],
   "source": [
    "type(age)"
   ]
  },
  {
   "cell_type": "code",
   "execution_count": 27,
   "id": "d899b639",
   "metadata": {},
   "outputs": [
    {
     "data": {
      "text/plain": [
       "float"
      ]
     },
     "execution_count": 27,
     "metadata": {},
     "output_type": "execute_result"
    }
   ],
   "source": [
    "type(weight)"
   ]
  },
  {
   "cell_type": "code",
   "execution_count": 28,
   "id": "dfa00443",
   "metadata": {},
   "outputs": [
    {
     "data": {
      "text/plain": [
       "bool"
      ]
     },
     "execution_count": 28,
     "metadata": {},
     "output_type": "execute_result"
    }
   ],
   "source": [
    "type(is_man)"
   ]
  },
  {
   "cell_type": "code",
   "execution_count": 29,
   "id": "422533e4",
   "metadata": {},
   "outputs": [
    {
     "data": {
      "text/plain": [
       "11"
      ]
     },
     "execution_count": 29,
     "metadata": {},
     "output_type": "execute_result"
    }
   ],
   "source": [
    "int('11')"
   ]
  },
  {
   "cell_type": "code",
   "execution_count": 30,
   "id": "2aaa66e0",
   "metadata": {},
   "outputs": [
    {
     "ename": "ValueError",
     "evalue": "invalid literal for int() with base 10: 'asdfdfdf'",
     "output_type": "error",
     "traceback": [
      "\u001b[1;31m---------------------------------------------------------------------------\u001b[0m",
      "\u001b[1;31mValueError\u001b[0m                                Traceback (most recent call last)",
      "\u001b[1;32m~\\AppData\\Local\\Temp/ipykernel_12932/1568127605.py\u001b[0m in \u001b[0;36m<module>\u001b[1;34m\u001b[0m\n\u001b[1;32m----> 1\u001b[1;33m \u001b[0mint\u001b[0m\u001b[1;33m(\u001b[0m\u001b[1;34m'asdfdfdf'\u001b[0m\u001b[1;33m)\u001b[0m\u001b[1;33m\u001b[0m\u001b[1;33m\u001b[0m\u001b[0m\n\u001b[0m",
      "\u001b[1;31mValueError\u001b[0m: invalid literal for int() with base 10: 'asdfdfdf'"
     ]
    }
   ],
   "source": [
    "int('asdfdfdf')"
   ]
  },
  {
   "cell_type": "code",
   "execution_count": 31,
   "id": "83cc5324",
   "metadata": {},
   "outputs": [],
   "source": [
    "ZOO = 'Мой зоопарк'"
   ]
  },
  {
   "cell_type": "code",
   "execution_count": 32,
   "id": "1e6db6ef",
   "metadata": {},
   "outputs": [
    {
     "data": {
      "text/plain": [
       "'11'"
      ]
     },
     "execution_count": 32,
     "metadata": {},
     "output_type": "execute_result"
    }
   ],
   "source": [
    "str(11)"
   ]
  },
  {
   "cell_type": "code",
   "execution_count": 33,
   "id": "24b8a0f4",
   "metadata": {},
   "outputs": [],
   "source": [
    "birthday_year = 2000"
   ]
  },
  {
   "cell_type": "code",
   "execution_count": 34,
   "id": "0ee1ec83",
   "metadata": {},
   "outputs": [
    {
     "data": {
      "text/plain": [
       "21"
      ]
     },
     "execution_count": 34,
     "metadata": {},
     "output_type": "execute_result"
    }
   ],
   "source": [
    "2021 - birthday_year"
   ]
  },
  {
   "cell_type": "code",
   "execution_count": 35,
   "id": "7c914da8",
   "metadata": {},
   "outputs": [
    {
     "data": {
      "text/plain": [
       "16"
      ]
     },
     "execution_count": 35,
     "metadata": {},
     "output_type": "execute_result"
    }
   ],
   "source": [
    "2**4"
   ]
  },
  {
   "cell_type": "code",
   "execution_count": 36,
   "id": "0d181ddc",
   "metadata": {},
   "outputs": [
    {
     "data": {
      "text/plain": [
       "float"
      ]
     },
     "execution_count": 36,
     "metadata": {},
     "output_type": "execute_result"
    }
   ],
   "source": [
    "type(16 / 4)"
   ]
  },
  {
   "cell_type": "code",
   "execution_count": 37,
   "id": "80079f71",
   "metadata": {},
   "outputs": [
    {
     "data": {
      "text/plain": [
       "3.2"
      ]
     },
     "execution_count": 37,
     "metadata": {},
     "output_type": "execute_result"
    }
   ],
   "source": [
    "16 / 5"
   ]
  },
  {
   "cell_type": "code",
   "execution_count": 38,
   "id": "34f3eaef",
   "metadata": {},
   "outputs": [
    {
     "data": {
      "text/plain": [
       "3"
      ]
     },
     "execution_count": 38,
     "metadata": {},
     "output_type": "execute_result"
    }
   ],
   "source": [
    "16 // 5"
   ]
  },
  {
   "cell_type": "code",
   "execution_count": 39,
   "id": "e7c7e81c",
   "metadata": {},
   "outputs": [
    {
     "data": {
      "text/plain": [
       "1"
      ]
     },
     "execution_count": 39,
     "metadata": {},
     "output_type": "execute_result"
    }
   ],
   "source": [
    "16 % 5"
   ]
  },
  {
   "cell_type": "code",
   "execution_count": 40,
   "id": "0d74e8c3",
   "metadata": {},
   "outputs": [
    {
     "data": {
      "text/plain": [
       "True"
      ]
     },
     "execution_count": 40,
     "metadata": {},
     "output_type": "execute_result"
    }
   ],
   "source": [
    "1 == 1"
   ]
  },
  {
   "cell_type": "code",
   "execution_count": 41,
   "id": "6e8562b3",
   "metadata": {},
   "outputs": [
    {
     "data": {
      "text/plain": [
       "False"
      ]
     },
     "execution_count": 41,
     "metadata": {},
     "output_type": "execute_result"
    }
   ],
   "source": [
    "1 != 1"
   ]
  },
  {
   "cell_type": "code",
   "execution_count": 42,
   "id": "0214e508",
   "metadata": {},
   "outputs": [
    {
     "data": {
      "text/plain": [
       "True"
      ]
     },
     "execution_count": 42,
     "metadata": {},
     "output_type": "execute_result"
    }
   ],
   "source": [
    "age is age"
   ]
  },
  {
   "cell_type": "code",
   "execution_count": 43,
   "id": "9b038270",
   "metadata": {},
   "outputs": [
    {
     "data": {
      "text/plain": [
       "True"
      ]
     },
     "execution_count": 43,
     "metadata": {},
     "output_type": "execute_result"
    }
   ],
   "source": [
    "2 > 1"
   ]
  },
  {
   "cell_type": "code",
   "execution_count": 44,
   "id": "40ecab4e",
   "metadata": {},
   "outputs": [
    {
     "data": {
      "text/plain": [
       "True"
      ]
     },
     "execution_count": 44,
     "metadata": {},
     "output_type": "execute_result"
    }
   ],
   "source": [
    "2 >= 2"
   ]
  },
  {
   "cell_type": "code",
   "execution_count": 45,
   "id": "63b09010",
   "metadata": {},
   "outputs": [
    {
     "data": {
      "text/plain": [
       "True"
      ]
     },
     "execution_count": 45,
     "metadata": {},
     "output_type": "execute_result"
    }
   ],
   "source": [
    "3 <= 3"
   ]
  },
  {
   "cell_type": "code",
   "execution_count": 46,
   "id": "2e996cef",
   "metadata": {},
   "outputs": [
    {
     "data": {
      "text/plain": [
       "False"
      ]
     },
     "execution_count": 46,
     "metadata": {},
     "output_type": "execute_result"
    }
   ],
   "source": [
    "3 < 3"
   ]
  },
  {
   "cell_type": "code",
   "execution_count": 47,
   "id": "73fb7da9",
   "metadata": {},
   "outputs": [
    {
     "data": {
      "text/plain": [
       "False"
      ]
     },
     "execution_count": 47,
     "metadata": {},
     "output_type": "execute_result"
    }
   ],
   "source": [
    "not (3 < 4)"
   ]
  },
  {
   "cell_type": "code",
   "execution_count": 48,
   "id": "9e57d477",
   "metadata": {},
   "outputs": [
    {
     "data": {
      "text/plain": [
       "False"
      ]
     },
     "execution_count": 48,
     "metadata": {},
     "output_type": "execute_result"
    }
   ],
   "source": [
    "(1 > 2) and (2 < 3)"
   ]
  },
  {
   "cell_type": "code",
   "execution_count": 49,
   "id": "1ce842e1",
   "metadata": {},
   "outputs": [
    {
     "data": {
      "text/plain": [
       "True"
      ]
     },
     "execution_count": 49,
     "metadata": {},
     "output_type": "execute_result"
    }
   ],
   "source": [
    "(1 > 2) or (2 < 3)"
   ]
  },
  {
   "cell_type": "code",
   "execution_count": 50,
   "id": "b6176569",
   "metadata": {},
   "outputs": [],
   "source": [
    "kinds = ['Медведь', 'Fox', 'Rabbit', 'Python', 1, 2, True]"
   ]
  },
  {
   "cell_type": "code",
   "execution_count": 51,
   "id": "dd5e61c2",
   "metadata": {},
   "outputs": [
    {
     "data": {
      "text/plain": [
       "list"
      ]
     },
     "execution_count": 51,
     "metadata": {},
     "output_type": "execute_result"
    }
   ],
   "source": [
    "type(kinds)"
   ]
  },
  {
   "cell_type": "code",
   "execution_count": 52,
   "id": "dd938ee8",
   "metadata": {},
   "outputs": [
    {
     "data": {
      "text/plain": [
       "'Fox'"
      ]
     },
     "execution_count": 52,
     "metadata": {},
     "output_type": "execute_result"
    }
   ],
   "source": [
    "kinds[1]"
   ]
  },
  {
   "cell_type": "code",
   "execution_count": 53,
   "id": "653660bc",
   "metadata": {},
   "outputs": [
    {
     "data": {
      "text/plain": [
       "'Медведь'"
      ]
     },
     "execution_count": 53,
     "metadata": {},
     "output_type": "execute_result"
    }
   ],
   "source": [
    "kinds[0]"
   ]
  },
  {
   "cell_type": "code",
   "execution_count": 54,
   "id": "6e170953",
   "metadata": {},
   "outputs": [
    {
     "ename": "IndexError",
     "evalue": "list index out of range",
     "output_type": "error",
     "traceback": [
      "\u001b[1;31m---------------------------------------------------------------------------\u001b[0m",
      "\u001b[1;31mIndexError\u001b[0m                                Traceback (most recent call last)",
      "\u001b[1;32m~\\AppData\\Local\\Temp/ipykernel_12932/1999792117.py\u001b[0m in \u001b[0;36m<module>\u001b[1;34m\u001b[0m\n\u001b[1;32m----> 1\u001b[1;33m \u001b[0mkinds\u001b[0m\u001b[1;33m[\u001b[0m\u001b[1;36m10\u001b[0m\u001b[1;33m]\u001b[0m\u001b[1;33m\u001b[0m\u001b[1;33m\u001b[0m\u001b[0m\n\u001b[0m",
      "\u001b[1;31mIndexError\u001b[0m: list index out of range"
     ]
    }
   ],
   "source": [
    "kinds[10]"
   ]
  },
  {
   "cell_type": "code",
   "execution_count": 55,
   "id": "19256216",
   "metadata": {},
   "outputs": [
    {
     "data": {
      "text/plain": [
       "True"
      ]
     },
     "execution_count": 55,
     "metadata": {},
     "output_type": "execute_result"
    }
   ],
   "source": [
    "kinds[-1]"
   ]
  },
  {
   "cell_type": "code",
   "execution_count": 56,
   "id": "286fa2af",
   "metadata": {},
   "outputs": [
    {
     "data": {
      "text/plain": [
       "2"
      ]
     },
     "execution_count": 56,
     "metadata": {},
     "output_type": "execute_result"
    }
   ],
   "source": [
    "kinds[-2]"
   ]
  },
  {
   "cell_type": "code",
   "execution_count": 57,
   "id": "a7752931",
   "metadata": {},
   "outputs": [
    {
     "data": {
      "text/plain": [
       "7"
      ]
     },
     "execution_count": 57,
     "metadata": {},
     "output_type": "execute_result"
    }
   ],
   "source": [
    "len(kinds)"
   ]
  },
  {
   "cell_type": "code",
   "execution_count": 58,
   "id": "9f114490",
   "metadata": {},
   "outputs": [
    {
     "data": {
      "text/plain": [
       "['Медведь', 'Fox']"
      ]
     },
     "execution_count": 58,
     "metadata": {},
     "output_type": "execute_result"
    }
   ],
   "source": [
    "kinds[:2]"
   ]
  },
  {
   "cell_type": "code",
   "execution_count": 59,
   "id": "9d6e6ac9",
   "metadata": {},
   "outputs": [
    {
     "data": {
      "text/plain": [
       "['Python', 1, 2, True]"
      ]
     },
     "execution_count": 59,
     "metadata": {},
     "output_type": "execute_result"
    }
   ],
   "source": [
    "kinds[3:]"
   ]
  },
  {
   "cell_type": "code",
   "execution_count": 60,
   "id": "436b6b4a",
   "metadata": {},
   "outputs": [
    {
     "data": {
      "text/plain": [
       "['Fox', 'Rabbit', 'Python']"
      ]
     },
     "execution_count": 60,
     "metadata": {},
     "output_type": "execute_result"
    }
   ],
   "source": [
    "kinds[1:4]"
   ]
  },
  {
   "cell_type": "code",
   "execution_count": 61,
   "id": "87f4e159",
   "metadata": {},
   "outputs": [
    {
     "ename": "AttributeError",
     "evalue": "'list' object has no attribute 'idex'",
     "output_type": "error",
     "traceback": [
      "\u001b[1;31m---------------------------------------------------------------------------\u001b[0m",
      "\u001b[1;31mAttributeError\u001b[0m                            Traceback (most recent call last)",
      "\u001b[1;32m~\\AppData\\Local\\Temp/ipykernel_12932/3965658312.py\u001b[0m in \u001b[0;36m<module>\u001b[1;34m\u001b[0m\n\u001b[1;32m----> 1\u001b[1;33m \u001b[0mkinds\u001b[0m\u001b[1;33m.\u001b[0m\u001b[0midex\u001b[0m\u001b[1;33m(\u001b[0m\u001b[1;34m'Rabbit'\u001b[0m\u001b[1;33m)\u001b[0m\u001b[1;33m\u001b[0m\u001b[1;33m\u001b[0m\u001b[0m\n\u001b[0m",
      "\u001b[1;31mAttributeError\u001b[0m: 'list' object has no attribute 'idex'"
     ]
    }
   ],
   "source": [
    "kinds.idex('Rabbit')"
   ]
  },
  {
   "cell_type": "code",
   "execution_count": 62,
   "id": "1882d499",
   "metadata": {},
   "outputs": [
    {
     "data": {
      "text/plain": [
       "2"
      ]
     },
     "execution_count": 62,
     "metadata": {},
     "output_type": "execute_result"
    }
   ],
   "source": [
    "kinds.index('Rabbit')"
   ]
  },
  {
   "cell_type": "code",
   "execution_count": 63,
   "id": "d3c9fb7d",
   "metadata": {},
   "outputs": [
    {
     "data": {
      "text/plain": [
       "[1, [2, 3], [4, 4, [1]]]"
      ]
     },
     "execution_count": 63,
     "metadata": {},
     "output_type": "execute_result"
    }
   ],
   "source": [
    "[1, [2, 3], [4,4,[1]]]"
   ]
  },
  {
   "cell_type": "code",
   "execution_count": 64,
   "id": "311e8a1e",
   "metadata": {},
   "outputs": [],
   "source": [
    "animal = {\n",
    "    'name': 'Борис',\n",
    "    'age': 11,\n",
    "    'is_man': True,\n",
    "    'kind': 'Bear'\n",
    "}"
   ]
  },
  {
   "cell_type": "code",
   "execution_count": 65,
   "id": "d5cbde24",
   "metadata": {},
   "outputs": [
    {
     "data": {
      "text/plain": [
       "11"
      ]
     },
     "execution_count": 65,
     "metadata": {},
     "output_type": "execute_result"
    }
   ],
   "source": [
    "animal['age']"
   ]
  },
  {
   "cell_type": "code",
   "execution_count": 66,
   "id": "b1bc95ef",
   "metadata": {},
   "outputs": [
    {
     "data": {
      "text/plain": [
       "True"
      ]
     },
     "execution_count": 66,
     "metadata": {},
     "output_type": "execute_result"
    }
   ],
   "source": [
    "animal['is_man']"
   ]
  },
  {
   "cell_type": "code",
   "execution_count": 67,
   "id": "8d00a8f7",
   "metadata": {},
   "outputs": [],
   "source": [
    "animal['age'] = 10"
   ]
  },
  {
   "cell_type": "code",
   "execution_count": 68,
   "id": "ac78d5d0",
   "metadata": {},
   "outputs": [
    {
     "data": {
      "text/plain": [
       "{'name': 'Борис', 'age': 10, 'is_man': True, 'kind': 'Bear'}"
      ]
     },
     "execution_count": 68,
     "metadata": {},
     "output_type": "execute_result"
    }
   ],
   "source": [
    "animal"
   ]
  },
  {
   "cell_type": "code",
   "execution_count": 69,
   "id": "d9c08ba5",
   "metadata": {},
   "outputs": [],
   "source": [
    "animal['weight'] = 10.1"
   ]
  },
  {
   "cell_type": "code",
   "execution_count": 70,
   "id": "db3f1b6a",
   "metadata": {},
   "outputs": [
    {
     "data": {
      "text/plain": [
       "{'name': 'Борис', 'age': 10, 'is_man': True, 'kind': 'Bear', 'weight': 10.1}"
      ]
     },
     "execution_count": 70,
     "metadata": {},
     "output_type": "execute_result"
    }
   ],
   "source": [
    "animal"
   ]
  },
  {
   "cell_type": "code",
   "execution_count": 71,
   "id": "279c5c6c",
   "metadata": {},
   "outputs": [],
   "source": [
    "animals = [{\n",
    "    'name': 'Борис',\n",
    "    'age': 11,\n",
    "    'is_man': True,\n",
    "    'kind': 'Bear'\n",
    "},\n",
    "{\n",
    "    'name': 'Гена',\n",
    "    'age': 12,\n",
    "    'is_man': True,\n",
    "    'kind': 'Crocodile'\n",
    "}\n",
    "]"
   ]
  },
  {
   "cell_type": "code",
   "execution_count": 72,
   "id": "1e01b470",
   "metadata": {},
   "outputs": [
    {
     "data": {
      "text/plain": [
       "11"
      ]
     },
     "execution_count": 72,
     "metadata": {},
     "output_type": "execute_result"
    }
   ],
   "source": [
    "animals[0]['age']"
   ]
  },
  {
   "cell_type": "code",
   "execution_count": 73,
   "id": "4675fa15",
   "metadata": {},
   "outputs": [
    {
     "data": {
      "text/plain": [
       "['Медведь', 'Fox', 'Rabbit', 'Python', 1, 2, True]"
      ]
     },
     "execution_count": 73,
     "metadata": {},
     "output_type": "execute_result"
    }
   ],
   "source": [
    "kinds"
   ]
  },
  {
   "cell_type": "code",
   "execution_count": 74,
   "id": "d06e3912",
   "metadata": {},
   "outputs": [],
   "source": [
    "kinds[0] = 'Что то'"
   ]
  },
  {
   "cell_type": "code",
   "execution_count": 75,
   "id": "eaee92d7",
   "metadata": {},
   "outputs": [
    {
     "data": {
      "text/plain": [
       "['Что то', 'Fox', 'Rabbit', 'Python', 1, 2, True]"
      ]
     },
     "execution_count": 75,
     "metadata": {},
     "output_type": "execute_result"
    }
   ],
   "source": [
    "kinds"
   ]
  },
  {
   "cell_type": "code",
   "execution_count": 76,
   "id": "97109fef",
   "metadata": {},
   "outputs": [
    {
     "data": {
      "text/plain": [
       "('Что то', 'Fox', 'Rabbit', 'Python', 1, 2, True)"
      ]
     },
     "execution_count": 76,
     "metadata": {},
     "output_type": "execute_result"
    }
   ],
   "source": [
    "('Что то', 'Fox', 'Rabbit', 'Python', 1, 2, True)"
   ]
  },
  {
   "cell_type": "code",
   "execution_count": 77,
   "id": "3dc8eaaf",
   "metadata": {},
   "outputs": [],
   "source": [
    "a = ('Что то', 'Fox', 'Rabbit', 'Python', 1, 2, True)"
   ]
  },
  {
   "cell_type": "code",
   "execution_count": 78,
   "id": "f1c8cc5a",
   "metadata": {},
   "outputs": [
    {
     "data": {
      "text/plain": [
       "('Что то', 'Fox', 'Rabbit', 'Python', 1, 2, True)"
      ]
     },
     "execution_count": 78,
     "metadata": {},
     "output_type": "execute_result"
    }
   ],
   "source": [
    "a"
   ]
  },
  {
   "cell_type": "code",
   "execution_count": 79,
   "id": "a3d22624",
   "metadata": {},
   "outputs": [
    {
     "data": {
      "text/plain": [
       "tuple"
      ]
     },
     "execution_count": 79,
     "metadata": {},
     "output_type": "execute_result"
    }
   ],
   "source": [
    "type(a)"
   ]
  },
  {
   "cell_type": "code",
   "execution_count": 80,
   "id": "f91deb50",
   "metadata": {},
   "outputs": [
    {
     "ename": "TypeError",
     "evalue": "'tuple' object does not support item assignment",
     "output_type": "error",
     "traceback": [
      "\u001b[1;31m---------------------------------------------------------------------------\u001b[0m",
      "\u001b[1;31mTypeError\u001b[0m                                 Traceback (most recent call last)",
      "\u001b[1;32m~\\AppData\\Local\\Temp/ipykernel_12932/2539478077.py\u001b[0m in \u001b[0;36m<module>\u001b[1;34m\u001b[0m\n\u001b[1;32m----> 1\u001b[1;33m \u001b[0ma\u001b[0m\u001b[1;33m[\u001b[0m\u001b[1;36m0\u001b[0m\u001b[1;33m]\u001b[0m \u001b[1;33m=\u001b[0m \u001b[1;36m10\u001b[0m\u001b[1;33m\u001b[0m\u001b[1;33m\u001b[0m\u001b[0m\n\u001b[0m",
      "\u001b[1;31mTypeError\u001b[0m: 'tuple' object does not support item assignment"
     ]
    }
   ],
   "source": [
    "a[0] = 10"
   ]
  },
  {
   "cell_type": "code",
   "execution_count": 81,
   "id": "eaccfbd9",
   "metadata": {},
   "outputs": [
    {
     "data": {
      "text/plain": [
       "'Что то'"
      ]
     },
     "execution_count": 81,
     "metadata": {},
     "output_type": "execute_result"
    }
   ],
   "source": [
    "a[0]"
   ]
  },
  {
   "cell_type": "code",
   "execution_count": 82,
   "id": "df58cfaa",
   "metadata": {},
   "outputs": [
    {
     "data": {
      "text/plain": [
       "('Что то', 'Fox', 'Rabbit', 'Python', 1, 2, True)"
      ]
     },
     "execution_count": 82,
     "metadata": {},
     "output_type": "execute_result"
    }
   ],
   "source": [
    "tuple(kinds)"
   ]
  },
  {
   "cell_type": "code",
   "execution_count": 83,
   "id": "3ecfa28f",
   "metadata": {},
   "outputs": [],
   "source": [
    "del kinds[1]"
   ]
  },
  {
   "cell_type": "code",
   "execution_count": 84,
   "id": "9eb5b63a",
   "metadata": {},
   "outputs": [
    {
     "data": {
      "text/plain": [
       "['Что то', 'Rabbit', 'Python', 1, 2, True]"
      ]
     },
     "execution_count": 84,
     "metadata": {},
     "output_type": "execute_result"
    }
   ],
   "source": [
    "kinds"
   ]
  },
  {
   "cell_type": "code",
   "execution_count": 85,
   "id": "83d7dd76",
   "metadata": {},
   "outputs": [],
   "source": [
    "foods_kind = {'Овощи', 'Мясо', 'Фрукты'}"
   ]
  },
  {
   "cell_type": "code",
   "execution_count": 86,
   "id": "b6c59c6c",
   "metadata": {},
   "outputs": [
    {
     "data": {
      "text/plain": [
       "{'Мясо', 'Овощи', 'Фрукты'}"
      ]
     },
     "execution_count": 86,
     "metadata": {},
     "output_type": "execute_result"
    }
   ],
   "source": [
    "foods_kind"
   ]
  },
  {
   "cell_type": "code",
   "execution_count": 87,
   "id": "701f210a",
   "metadata": {},
   "outputs": [],
   "source": [
    "foods_kind = {'Овощи', 'Мясо', 'Фрукты', 'Фрукты'}"
   ]
  },
  {
   "cell_type": "code",
   "execution_count": 88,
   "id": "56585df1",
   "metadata": {},
   "outputs": [
    {
     "data": {
      "text/plain": [
       "{'Мясо', 'Овощи', 'Фрукты'}"
      ]
     },
     "execution_count": 88,
     "metadata": {},
     "output_type": "execute_result"
    }
   ],
   "source": [
    "foods_kind"
   ]
  },
  {
   "cell_type": "code",
   "execution_count": 89,
   "id": "95c19a99",
   "metadata": {},
   "outputs": [],
   "source": [
    "foods_kind.add('Трава')"
   ]
  },
  {
   "cell_type": "code",
   "execution_count": 90,
   "id": "eb8615ec",
   "metadata": {},
   "outputs": [
    {
     "data": {
      "text/plain": [
       "{'Мясо', 'Овощи', 'Трава', 'Фрукты'}"
      ]
     },
     "execution_count": 90,
     "metadata": {},
     "output_type": "execute_result"
    }
   ],
   "source": [
    "foods_kind"
   ]
  },
  {
   "cell_type": "code",
   "execution_count": 91,
   "id": "61c0fd92",
   "metadata": {},
   "outputs": [],
   "source": [
    "foods_kind.remove('Трава')"
   ]
  },
  {
   "cell_type": "code",
   "execution_count": 92,
   "id": "4a44b6b3",
   "metadata": {},
   "outputs": [
    {
     "data": {
      "text/plain": [
       "{'Мясо', 'Овощи', 'Фрукты'}"
      ]
     },
     "execution_count": 92,
     "metadata": {},
     "output_type": "execute_result"
    }
   ],
   "source": [
    "foods_kind"
   ]
  },
  {
   "cell_type": "code",
   "execution_count": 93,
   "id": "b005705c",
   "metadata": {},
   "outputs": [
    {
     "data": {
      "text/plain": [
       "{'а', 'ы'}"
      ]
     },
     "execution_count": 93,
     "metadata": {},
     "output_type": "execute_result"
    }
   ],
   "source": [
    "{'ы', 'а'}"
   ]
  },
  {
   "cell_type": "code",
   "execution_count": null,
   "id": "5d37aa9e",
   "metadata": {},
   "outputs": [],
   "source": []
  }
 ],
 "metadata": {
  "kernelspec": {
   "display_name": "Python 3 (ipykernel)",
   "language": "python",
   "name": "python3"
  },
  "language_info": {
   "codemirror_mode": {
    "name": "ipython",
    "version": 3
   },
   "file_extension": ".py",
   "mimetype": "text/x-python",
   "name": "python",
   "nbconvert_exporter": "python",
   "pygments_lexer": "ipython3",
   "version": "3.8.5"
  }
 },
 "nbformat": 4,
 "nbformat_minor": 5
}
